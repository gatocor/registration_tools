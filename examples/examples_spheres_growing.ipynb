{
 "cells": [
  {
   "cell_type": "markdown",
   "metadata": {},
   "source": [
    "# Non-linear registration of growing spheres\n",
    "This notebook demonstrates how to create, visualize, and rigid register a dataset of growing spherical images using the `registration_tools` package.\n",
    "\n",
    "## Index\n",
    "1. [Import the corresponding libraries](#Import-the-corresponding-libraries)\n",
    "2. [Create an artificial dataset of growing spherical images](#Create-an-artificial-dataset-of-growing-spherical-images)\n",
    "3. [Visualizing](#Visualizing)\n",
    "4. [Make video](#Make-video)\n",
    "5. [Register the images](#Register-the-images)\n",
    "6. [Plot the vector field and make videos](#Plot-the-vector-field-and-make-videos)\n",
    "7. [Plot the trajectories](#Plot-the-trajectories)\n"
   ]
  },
  {
   "cell_type": "markdown",
   "metadata": {},
   "source": [
    "## Import the corresponding libraries"
   ]
  },
  {
   "cell_type": "code",
   "execution_count": 43,
   "metadata": {},
   "outputs": [],
   "source": [
    "import os\n",
    "import napari\n",
    "import registration_tools as rt #Main package\n",
    "import registration_tools.data as rt_data #For generating artificial datasets\n",
    "import registration_tools.visualization as rt_vis #For visualization\n",
    "import registration_tools.registration as rt_reg #For registration\n",
    "import registration_tools.utils as rt_utils #Other utility functions"
   ]
  },
  {
   "cell_type": "markdown",
   "metadata": {},
   "source": [
    "## Create an artificial dataset of growing spherical images\n",
    "We will create a dataset of 10 growing spherical images with 3 channels."
   ]
  },
  {
   "cell_type": "code",
   "execution_count": 44,
   "metadata": {},
   "outputs": [],
   "source": [
    "# Create a dataset of growing spherical images\n",
    "dataset = rt_data.sphere(\n",
    "    num_images=10,\n",
    "    image_size=100,\n",
    "    num_channels=1,\n",
    "    min_radius=10,\n",
    "    max_radius=20,\n",
    "    jump=0,\n",
    "    stride=(1, 1, 1),\n",
    "    decay_factor=0,\n",
    ")"
   ]
  },
  {
   "cell_type": "markdown",
   "metadata": {},
   "source": [
    "### Visualizing\n",
    "\n",
    "Initialize the napari viewer to visualize the dataset."
   ]
  },
  {
   "cell_type": "code",
   "execution_count": 45,
   "metadata": {},
   "outputs": [],
   "source": [
    "# Initialize the napari viewer\n",
    "viewer = napari.Viewer()"
   ]
  },
  {
   "cell_type": "markdown",
   "metadata": {},
   "source": [
    "and load the dataset to napari,"
   ]
  },
  {
   "cell_type": "code",
   "execution_count": 46,
   "metadata": {},
   "outputs": [],
   "source": [
    "# Plot the images in the dataset\n",
    "viewer.layers.clear() #Clear the viewer of other layers that may be present\n",
    "rt_vis.add_image(viewer, dataset)\n",
    "viewer.dims.ndisplay = 3"
   ]
  },
  {
   "cell_type": "markdown",
   "metadata": {},
   "source": [
    "### Make video\n",
    "Create a video from the images in the dataset."
   ]
  },
  {
   "cell_type": "code",
   "execution_count": 47,
   "metadata": {},
   "outputs": [],
   "source": [
    "# Make video\n",
    "rt_vis.make_video(\n",
    "    viewer=viewer,\n",
    "    save_file='sphere_growing_dataset.gif',\n",
    "    fps=1,\n",
    ")"
   ]
  },
  {
   "cell_type": "markdown",
   "metadata": {},
   "source": [
    "## Register the images\n",
    "Register the images in the dataset to correct for any misalignments."
   ]
  },
  {
   "cell_type": "code",
   "execution_count": 48,
   "metadata": {},
   "outputs": [],
   "source": [
    "# Register the video\n",
    "registration = rt_reg.Registration(\n",
    "    pyramid_highest_level=5,\n",
    "    pyramid_lowest_level=0,\n",
    "    registration_type='vectorfield',\n",
    "    registration_direction='forward',\n",
    ")"
   ]
  },
  {
   "cell_type": "code",
   "execution_count": 49,
   "metadata": {},
   "outputs": [
    {
     "name": "stderr",
     "output_type": "stream",
     "text": [
      "Registering images using channel 0: 100%|██████████| 9/9 [00:23<00:00,  2.65s/]\n"
     ]
    }
   ],
   "source": [
    "registration.fit(\n",
    "    dataset,\n",
    "    use_channel=0,\n",
    ")"
   ]
  },
  {
   "cell_type": "markdown",
   "metadata": {},
   "source": [
    "### Plot the vector field and make videos\n",
    "\n",
    "Now we can check the deformation field by plotting the vectorfield along with the images to see the deformation.\n",
    "\n",
    "In order to represent the vectorfield around the region of interest, we will provide a mask around the ball. We provide handy functions to process in batch large datasets without loading all in memory."
   ]
  },
  {
   "cell_type": "code",
   "execution_count": 50,
   "metadata": {},
   "outputs": [
    {
     "name": "stderr",
     "output_type": "stream",
     "text": [
      "Applying function: 100%|██████████| 10/10 [00:00<00:00, 93.09it/s]\n"
     ]
    }
   ],
   "source": [
    "mask = rt_utils.apply_function_in_time(dataset, lambda x: x[0] > 0, new_axis=\"TXYZ\")"
   ]
  },
  {
   "cell_type": "markdown",
   "metadata": {},
   "source": [
    "With the mask computed, we can compute the compute the vectorfield.\n",
    " > **Note** The vectorfield returned has the shape of Napari vectors (vectors x (point,$\\Delta$point) x (t,spatial)) and is already in physical units."
   ]
  },
  {
   "cell_type": "code",
   "execution_count": 51,
   "metadata": {},
   "outputs": [
    {
     "name": "stderr",
     "output_type": "stream",
     "text": [
      "Computing vectorfield: 100%|██████████| 9/9 [00:02<00:00,  4.26/s]\n"
     ]
    }
   ],
   "source": [
    "vect = registration.vectorfield(\n",
    "    mask,        #mask\n",
    "    n_points=50  #n of points per dimension to plot the vectorfield\n",
    ")"
   ]
  },
  {
   "cell_type": "markdown",
   "metadata": {},
   "source": [
    "Finally we add it to the viewer,"
   ]
  },
  {
   "cell_type": "code",
   "execution_count": 52,
   "metadata": {},
   "outputs": [],
   "source": [
    "viewer.layers.clear() # Clear the viewer from other images\n",
    "rt_vis.add_image(viewer, dataset, name=\"dataset\", channel_axis=1)\n",
    "viewer.add_vectors(vect)\n",
    "viewer.dims.ndisplay = 3"
   ]
  },
  {
   "cell_type": "markdown",
   "metadata": {},
   "source": [
    "and make a video."
   ]
  },
  {
   "cell_type": "code",
   "execution_count": 53,
   "metadata": {},
   "outputs": [],
   "source": [
    "rt_vis.make_video(\n",
    "    viewer=viewer,\n",
    "    save_file='sphere_registered_vectorfield.gif',\n",
    "    fps=1,\n",
    ")"
   ]
  },
  {
   "cell_type": "markdown",
   "metadata": {},
   "source": [
    "### Plot the trajectories\n",
    "\n",
    "Alternatively to the vectorfield between time points, you can also integrate a set of points over all the transformations to have an idea of the trajectories of the flow over longer times.\n",
    "\n",
    "For that we just need a mask in one single time point. Since the vectorfield we compute it forward, it makes sense that we pass the pask of the first time point. "
   ]
  },
  {
   "cell_type": "code",
   "execution_count": 54,
   "metadata": {},
   "outputs": [],
   "source": [
    "#Mask of just initial time point\n",
    "mask = dataset[0][0] > 0 #[time][channel]"
   ]
  },
  {
   "cell_type": "markdown",
   "metadata": {},
   "source": [
    "And with the mask, we compute the tracks."
   ]
  },
  {
   "cell_type": "code",
   "execution_count": 55,
   "metadata": {},
   "outputs": [
    {
     "name": "stderr",
     "output_type": "stream",
     "text": [
      "Computing trajectories: 100%|██████████| 9/9 [00:00<00:00, 14.98/s]\n"
     ]
    }
   ],
   "source": [
    "tracks = registration.trajectories(mask, n_points=50, axis=\"XYZ\", scale=dataset.attrs[\"scale\"])"
   ]
  },
  {
   "cell_type": "markdown",
   "metadata": {},
   "source": [
    "Finally, we upload the images in napari,"
   ]
  },
  {
   "cell_type": "code",
   "execution_count": 56,
   "metadata": {},
   "outputs": [],
   "source": [
    "viewer.layers.clear() # Clear the viewer from other images\n",
    "rt_vis.add_image(viewer, dataset, name=\"dataset\", channel_axis=1, opacity=0.5)\n",
    "viewer.add_tracks(tracks)\n",
    "viewer.dims.ndisplay = 3\n",
    "viewer.camera.angles = (-0.5812613950187316, 21.01903309215726, -7.504582808602566) # Set camera angles to make the video look better"
   ]
  },
  {
   "cell_type": "markdown",
   "metadata": {},
   "source": [
    "and make the video"
   ]
  },
  {
   "cell_type": "code",
   "execution_count": 57,
   "metadata": {},
   "outputs": [],
   "source": [
    "rt_vis.make_video(\n",
    "    viewer=viewer,\n",
    "    save_file='sphere_registered_trajectories.gif',\n",
    "    fps=1,\n",
    ")"
   ]
  }
 ],
 "metadata": {
  "kernelspec": {
   "display_name": "Python 3 (ipykernel)",
   "language": "python",
   "name": "python3"
  },
  "language_info": {
   "codemirror_mode": {
    "name": "ipython",
    "version": 3
   },
   "file_extension": ".py",
   "mimetype": "text/x-python",
   "name": "python",
   "nbconvert_exporter": "python",
   "pygments_lexer": "ipython3",
   "version": "3.12.7"
  }
 },
 "nbformat": 4,
 "nbformat_minor": 4
}
