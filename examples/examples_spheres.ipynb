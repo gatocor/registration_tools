{
 "cells": [
  {
   "cell_type": "markdown",
   "metadata": {},
   "source": [
    "# Rigid Registration of Spheres\n",
    "This notebook demonstrates how to create, visualize, and rigid register a dataset of spherical images using the `registration_tools` package.\n",
    "\n",
    "## Index\n",
    "1. [Import the corresponding libraries](#Import-the-corresponding-libraries)\n",
    "2. [Create an artificial dataset of spherical images](#Create-an-artificial-dataset-of-spherical-images)\n",
    "3. [Visualizing](#Visualizing)\n",
    "4. [Make video](#Make-video)\n",
    "5. [Register the images](#Register-the-images)\n",
    "6. [Check the correction of the registered images](#Check-the-correction-of-the-registered-images)\n",
    "7. [Make videos](#Make-videos)\n"
   ]
  },
  {
   "cell_type": "markdown",
   "metadata": {},
   "source": [
    "## Import the corresponding libraries"
   ]
  },
  {
   "cell_type": "code",
   "execution_count": null,
   "id": "import-libraries",
   "metadata": {},
   "outputs": [],
   "source": [
    "import os\n",
    "import napari\n",
    "import registration_tools as rt #Main package\n",
    "import registration_tools.data as rt_data #For generating artificial datasets\n",
    "import registration_tools.visualization as rt_vis #For visualization\n",
    "import registration_tools.registration as rt_reg #For registration"
   ]
  },
  {
   "cell_type": "markdown",
   "metadata": {},
   "source": [
    "## Create an artificial dataset of spherical images\n",
    "We will create a dataset of 10 spherical images with 3 channels."
   ]
  },
  {
   "cell_type": "code",
   "execution_count": null,
   "id": "create-dataset",
   "metadata": {},
   "outputs": [],
   "source": [
    "# Create a dataset of spherical images\n",
    "dataset = rt_data.sphere(\n",
    "    path='sphere_dataset',\n",
    "    num_images=10,\n",
    "    image_size=100,\n",
    "    num_channels=3,\n",
    "    min_radius=5,\n",
    "    max_radius=5,\n",
    "    jump=2,\n",
    "    stride=(1, 1, 1)\n",
    ")"
   ]
  },
  {
   "cell_type": "markdown",
   "metadata": {},
   "source": [
    "### Visualizing\n",
    "\n",
    "Initialize the napari viewer to visualize the dataset."
   ]
  },
  {
   "cell_type": "code",
   "execution_count": null,
   "id": "initialize-viewer",
   "metadata": {},
   "outputs": [],
   "source": [
    "# Initialize the napari viewer\n",
    "viewer = napari.Viewer()"
   ]
  },
  {
   "cell_type": "markdown",
   "metadata": {},
   "source": [
    "and load the dataset to napari,"
   ]
  },
  {
   "cell_type": "code",
   "execution_count": null,
   "id": "plot-images",
   "metadata": {},
   "outputs": [],
   "source": [
    "# Plot the images in the dataset\n",
    "viewer.layers.clear() #Clear the viewer of other layers that may be present\n",
    "rt_vis.plot_images(viewer, dataset)"
   ]
  },
  {
   "cell_type": "markdown",
   "metadata": {},
   "source": [
    "### Make video\n",
    "Create a video from the images in the dataset."
   ]
  },
  {
   "cell_type": "code",
   "execution_count": null,
   "id": "make-video",
   "metadata": {},
   "outputs": [],
   "source": [
    "# Make video\n",
    "rt_vis.make_video(\n",
    "    viewer=viewer,\n",
    "    save_file='sphere_dataset.gif',\n",
    "    fps=1,\n",
    ")"
   ]
  },
  {
   "cell_type": "markdown",
   "metadata": {},
   "source": [
    "## Register the images\n",
    "Register the images in the dataset to correct for any misalignments."
   ]
  },
  {
   "cell_type": "code",
   "execution_count": null,
   "id": "register-video",
   "metadata": {},
   "outputs": [],
   "source": [
    "# Register the video\n",
    "registered_dataset = rt_reg.register(\n",
    "    dataset=dataset,\n",
    "    save_path='registered_sphere_dataset',\n",
    "    pyramid_highest_level=3,\n",
    "    pyramid_lowest_level=0,\n",
    "    registration_type='translation',\n",
    "    registration_direction='backward'\n",
    ")"
   ]
  },
  {
   "cell_type": "markdown",
   "metadata": {},
   "source": [
    "### Check the correction of the registered images\n",
    "\n",
    "For that, when registering, projections in each direction are performed.\n",
    "\n",
    "Function plot shows the differences between a time t, time t+1 registered and time t+1 unregistered."
   ]
  },
  {
   "cell_type": "code",
   "execution_count": null,
   "id": "make-video-projections",
   "metadata": {},
   "outputs": [],
   "source": [
    "# Make video projections\n",
    "viewer.layers.clear() # Clear the viewer from other images\n",
    "rt_vis.plot_projections_difference(viewer, registered_dataset, 0)"
   ]
  },
  {
   "cell_type": "markdown",
   "metadata": {},
   "source": [
    "### Make videos\n",
    "\n",
    "Now that we checked that the correction is satisfactory, we can save the video."
   ]
  },
  {
   "cell_type": "code",
   "execution_count": null,
   "id": "make-video-registered",
   "metadata": {},
   "outputs": [],
   "source": [
    "# Make video registered\n",
    "viewer.layers.clear()\n",
    "rt_vis.plot_images(viewer, registered_dataset)\n",
    "rt_vis.make_video(\n",
    "    viewer=viewer,\n",
    "    save_file='sphere_dataset_registered.gif',\n",
    "    fps=1,\n",
    ")"
   ]
  }
 ],
 "metadata": {
  "language_info": {
   "name": "python"
  }
 },
 "nbformat": 4,
 "nbformat_minor": 2
}
